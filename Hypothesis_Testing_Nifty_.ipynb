{
  "nbformat": 4,
  "nbformat_minor": 0,
  "metadata": {
    "colab": {
      "name": "Hypothesis Testing - Nifty .ipynb",
      "provenance": [],
      "collapsed_sections": [],
      "authorship_tag": "ABX9TyPlNWJ2i5IMaWuZpDZehTuE"
    },
    "kernelspec": {
      "name": "python3",
      "display_name": "Python 3"
    }
  },
  "cells": [
    {
      "cell_type": "code",
      "metadata": {
        "id": "d-8p4aEcBhda",
        "colab_type": "code",
        "colab": {
          "base_uri": "https://localhost:8080/",
          "height": 71
        },
        "outputId": "939159dd-f116-47fa-d736-a973d81b55ee"
      },
      "source": [
        "from pandas_datareader import data\n"
      ],
      "execution_count": null,
      "outputs": [
        {
          "output_type": "stream",
          "text": [
            "/usr/local/lib/python3.6/dist-packages/pandas_datareader/compat/__init__.py:7: FutureWarning: pandas.util.testing is deprecated. Use the functions in the public API at pandas.testing instead.\n",
            "  from pandas.util.testing import assert_frame_equal\n"
          ],
          "name": "stderr"
        }
      ]
    },
    {
      "cell_type": "code",
      "metadata": {
        "id": "bGpfNjZ6BHIj",
        "colab_type": "code",
        "colab": {
          "base_uri": "https://localhost:8080/",
          "height": 235
        },
        "outputId": "8a53f31c-bcb7-451e-edde-3fcb07804af2"
      },
      "source": [
        "nifty = data.DataReader('^NSEI', 'yahoo', start='2007/01/01', end='2020/09/14')\n",
        "nifty = nifty.resample('M').last().pct_change()\n",
        "nifty.head()"
      ],
      "execution_count": null,
      "outputs": [
        {
          "output_type": "execute_result",
          "data": {
            "text/html": [
              "<div>\n",
              "<style scoped>\n",
              "    .dataframe tbody tr th:only-of-type {\n",
              "        vertical-align: middle;\n",
              "    }\n",
              "\n",
              "    .dataframe tbody tr th {\n",
              "        vertical-align: top;\n",
              "    }\n",
              "\n",
              "    .dataframe thead th {\n",
              "        text-align: right;\n",
              "    }\n",
              "</style>\n",
              "<table border=\"1\" class=\"dataframe\">\n",
              "  <thead>\n",
              "    <tr style=\"text-align: right;\">\n",
              "      <th></th>\n",
              "      <th>High</th>\n",
              "      <th>Low</th>\n",
              "      <th>Open</th>\n",
              "      <th>Close</th>\n",
              "      <th>Volume</th>\n",
              "      <th>Adj Close</th>\n",
              "    </tr>\n",
              "    <tr>\n",
              "      <th>Date</th>\n",
              "      <th></th>\n",
              "      <th></th>\n",
              "      <th></th>\n",
              "      <th></th>\n",
              "      <th></th>\n",
              "      <th></th>\n",
              "    </tr>\n",
              "  </thead>\n",
              "  <tbody>\n",
              "    <tr>\n",
              "      <th>2007-09-30</th>\n",
              "      <td>NaN</td>\n",
              "      <td>NaN</td>\n",
              "      <td>NaN</td>\n",
              "      <td>NaN</td>\n",
              "      <td>NaN</td>\n",
              "      <td>NaN</td>\n",
              "    </tr>\n",
              "    <tr>\n",
              "      <th>2007-10-31</th>\n",
              "      <td>0.177311</td>\n",
              "      <td>0.173093</td>\n",
              "      <td>0.174614</td>\n",
              "      <td>0.175112</td>\n",
              "      <td>NaN</td>\n",
              "      <td>0.175112</td>\n",
              "    </tr>\n",
              "    <tr>\n",
              "      <th>2007-11-30</th>\n",
              "      <td>-0.028510</td>\n",
              "      <td>-0.039010</td>\n",
              "      <td>-0.040042</td>\n",
              "      <td>-0.023370</td>\n",
              "      <td>NaN</td>\n",
              "      <td>-0.023370</td>\n",
              "    </tr>\n",
              "    <tr>\n",
              "      <th>2007-12-31</th>\n",
              "      <td>0.066614</td>\n",
              "      <td>0.082084</td>\n",
              "      <td>0.081844</td>\n",
              "      <td>0.065221</td>\n",
              "      <td>NaN</td>\n",
              "      <td>0.065221</td>\n",
              "    </tr>\n",
              "    <tr>\n",
              "      <th>2008-01-31</th>\n",
              "      <td>-0.148531</td>\n",
              "      <td>-0.167982</td>\n",
              "      <td>-0.151395</td>\n",
              "      <td>-0.163091</td>\n",
              "      <td>NaN</td>\n",
              "      <td>-0.163091</td>\n",
              "    </tr>\n",
              "  </tbody>\n",
              "</table>\n",
              "</div>"
            ],
            "text/plain": [
              "                High       Low      Open     Close  Volume  Adj Close\n",
              "Date                                                                 \n",
              "2007-09-30       NaN       NaN       NaN       NaN     NaN        NaN\n",
              "2007-10-31  0.177311  0.173093  0.174614  0.175112     NaN   0.175112\n",
              "2007-11-30 -0.028510 -0.039010 -0.040042 -0.023370     NaN  -0.023370\n",
              "2007-12-31  0.066614  0.082084  0.081844  0.065221     NaN   0.065221\n",
              "2008-01-31 -0.148531 -0.167982 -0.151395 -0.163091     NaN  -0.163091"
            ]
          },
          "metadata": {
            "tags": []
          },
          "execution_count": 4
        }
      ]
    },
    {
      "cell_type": "code",
      "metadata": {
        "id": "x0kUTLnIBX6x",
        "colab_type": "code",
        "colab": {}
      },
      "source": [
        "import numpy as np\n"
      ],
      "execution_count": null,
      "outputs": []
    },
    {
      "cell_type": "code",
      "metadata": {
        "id": "knrn9t-eB4cK",
        "colab_type": "code",
        "colab": {
          "base_uri": "https://localhost:8080/",
          "height": 296
        },
        "outputId": "7da209bd-4072-4ff7-b667-42e045598f3b"
      },
      "source": [
        "nifty.plot()\n"
      ],
      "execution_count": null,
      "outputs": [
        {
          "output_type": "execute_result",
          "data": {
            "text/plain": [
              "<matplotlib.axes._subplots.AxesSubplot at 0x7f7168699a20>"
            ]
          },
          "metadata": {
            "tags": []
          },
          "execution_count": 6
        },
        {
          "output_type": "display_data",
          "data": {
            "image/png": "[encoded data removed]",
            "text/plain": [
              "<Figure size 432x288 with 1 Axes>"
            ]
          },
          "metadata": {
            "tags": [],
            "needs_background": "light"
          }
        }
      ]
    },
    {
      "cell_type": "code",
      "metadata": {
        "id": "n0FZ_1JNB8wL",
        "colab_type": "code",
        "colab": {}
      },
      "source": [
        "from scipy import stats \n",
        "import matplotlib.pyplot as plt"
      ],
      "execution_count": null,
      "outputs": []
    },
    {
      "cell_type": "code",
      "metadata": {
        "id": "5oyT6HpOCFF7",
        "colab_type": "code",
        "colab": {
          "base_uri": "https://localhost:8080/",
          "height": 282
        },
        "outputId": "17d92467-60dc-4b72-ad73-965a28fb346d"
      },
      "source": [
        "x = np.linspace(-3,3,1000)\n",
        "plt.plot(x, stats.norm.pdf(x))"
      ],
      "execution_count": null,
      "outputs": [
        {
          "output_type": "execute_result",
          "data": {
            "text/plain": [
              "[<matplotlib.lines.Line2D at 0x7f715eb9f630>]"
            ]
          },
          "metadata": {
            "tags": []
          },
          "execution_count": 8
        },
        {
          "output_type": "display_data",
          "data": {
            "image/png": "[encoded data removed]",
            "text/plain": [
              "<Figure size 432x288 with 1 Axes>"
            ]
          },
          "metadata": {
            "tags": [],
            "needs_background": "light"
          }
        }
      ]
    },
    {
      "cell_type": "code",
      "metadata": {
        "id": "VI1MfooDCI17",
        "colab_type": "code",
        "colab": {
          "base_uri": "https://localhost:8080/",
          "height": 34
        },
        "outputId": "b2238d45-c230-49dc-85ad-097dc3b20855"
      },
      "source": [
        "n_1 = 60\n",
        "n_2 = 60\n",
        "df = n_1 + n_2 -2\n",
        "df"
      ],
      "execution_count": null,
      "outputs": [
        {
          "output_type": "execute_result",
          "data": {
            "text/plain": [
              "118"
            ]
          },
          "metadata": {
            "tags": []
          },
          "execution_count": 9
        }
      ]
    },
    {
      "cell_type": "code",
      "metadata": {
        "id": "qKcowu2mCOVK",
        "colab_type": "code",
        "colab": {
          "base_uri": "https://localhost:8080/",
          "height": 282
        },
        "outputId": "8a60de9e-4b1f-4990-a55e-e94cd15f5f8b"
      },
      "source": [
        "xs = np.linspace(-3,3,1000)\n",
        "plt.plot(xs, stats.t.pdf(xs, df))"
      ],
      "execution_count": null,
      "outputs": [
        {
          "output_type": "execute_result",
          "data": {
            "text/plain": [
              "[<matplotlib.lines.Line2D at 0x7f715eb163c8>]"
            ]
          },
          "metadata": {
            "tags": []
          },
          "execution_count": 10
        },
        {
          "output_type": "display_data",
          "data": {
            "image/png": "[encoded data removed]",
            "text/plain": [
              "<Figure size 432x288 with 1 Axes>"
            ]
          },
          "metadata": {
            "tags": [],
            "needs_background": "light"
          }
        }
      ]
    },
    {
      "cell_type": "code",
      "metadata": {
        "id": "cxwC_fbECQ0T",
        "colab_type": "code",
        "colab": {
          "base_uri": "https://localhost:8080/",
          "height": 34
        },
        "outputId": "7a41729a-93dc-41f9-db28-c1bdfca7bc2a"
      },
      "source": [
        "stats.t.isf(0.025, df)\n"
      ],
      "execution_count": null,
      "outputs": [
        {
          "output_type": "execute_result",
          "data": {
            "text/plain": [
              "1.9802722492407063"
            ]
          },
          "metadata": {
            "tags": []
          },
          "execution_count": 11
        }
      ]
    },
    {
      "cell_type": "code",
      "metadata": {
        "id": "mb3mtfHlCVXj",
        "colab_type": "code",
        "colab": {
          "base_uri": "https://localhost:8080/",
          "height": 296
        },
        "outputId": "6ac7ba2a-516f-44a3-9b4d-dd4fc41ef0f5"
      },
      "source": [
        "returns = nifty.pct_change()\n",
        "returns.plot()"
      ],
      "execution_count": null,
      "outputs": [
        {
          "output_type": "execute_result",
          "data": {
            "text/plain": [
              "<matplotlib.axes._subplots.AxesSubplot at 0x7f715ead6668>"
            ]
          },
          "metadata": {
            "tags": []
          },
          "execution_count": 12
        },
        {
          "output_type": "display_data",
          "data": {
            "image/png": "[encoded data removed]",
            "text/plain": [
              "<Figure size 432x288 with 1 Axes>"
            ]
          },
          "metadata": {
            "tags": [],
            "needs_background": "light"
          }
        }
      ]
    },
    {
      "cell_type": "code",
      "metadata": {
        "id": "jCzDdlR5CZ3C",
        "colab_type": "code",
        "colab": {
          "base_uri": "https://localhost:8080/",
          "height": 235
        },
        "outputId": "8bfc58d6-2533-468e-d379-17aa7b190422"
      },
      "source": [
        "ts_1 = returns.loc['2007-11-01':'2008-12-31']\n",
        "ts_1.head()"
      ],
      "execution_count": null,
      "outputs": [
        {
          "output_type": "execute_result",
          "data": {
            "text/html": [
              "<div>\n",
              "<style scoped>\n",
              "    .dataframe tbody tr th:only-of-type {\n",
              "        vertical-align: middle;\n",
              "    }\n",
              "\n",
              "    .dataframe tbody tr th {\n",
              "        vertical-align: top;\n",
              "    }\n",
              "\n",
              "    .dataframe thead th {\n",
              "        text-align: right;\n",
              "    }\n",
              "</style>\n",
              "<table border=\"1\" class=\"dataframe\">\n",
              "  <thead>\n",
              "    <tr style=\"text-align: right;\">\n",
              "      <th></th>\n",
              "      <th>High</th>\n",
              "      <th>Low</th>\n",
              "      <th>Open</th>\n",
              "      <th>Close</th>\n",
              "      <th>Volume</th>\n",
              "      <th>Adj Close</th>\n",
              "    </tr>\n",
              "    <tr>\n",
              "      <th>Date</th>\n",
              "      <th></th>\n",
              "      <th></th>\n",
              "      <th></th>\n",
              "      <th></th>\n",
              "      <th></th>\n",
              "      <th></th>\n",
              "    </tr>\n",
              "  </thead>\n",
              "  <tbody>\n",
              "    <tr>\n",
              "      <th>2007-11-30</th>\n",
              "      <td>-1.160792</td>\n",
              "      <td>-1.225371</td>\n",
              "      <td>-1.229315</td>\n",
              "      <td>-1.133459</td>\n",
              "      <td>NaN</td>\n",
              "      <td>-1.133459</td>\n",
              "    </tr>\n",
              "    <tr>\n",
              "      <th>2007-12-31</th>\n",
              "      <td>-3.336501</td>\n",
              "      <td>-3.104171</td>\n",
              "      <td>-3.043972</td>\n",
              "      <td>-3.790749</td>\n",
              "      <td>NaN</td>\n",
              "      <td>-3.790749</td>\n",
              "    </tr>\n",
              "    <tr>\n",
              "      <th>2008-01-31</th>\n",
              "      <td>-3.229713</td>\n",
              "      <td>-3.046466</td>\n",
              "      <td>-2.849798</td>\n",
              "      <td>-3.500604</td>\n",
              "      <td>NaN</td>\n",
              "      <td>-3.500604</td>\n",
              "    </tr>\n",
              "    <tr>\n",
              "      <th>2008-02-29</th>\n",
              "      <td>-1.050190</td>\n",
              "      <td>-1.031930</td>\n",
              "      <td>-1.143988</td>\n",
              "      <td>-1.102700</td>\n",
              "      <td>NaN</td>\n",
              "      <td>-1.102700</td>\n",
              "    </tr>\n",
              "    <tr>\n",
              "      <th>2008-03-31</th>\n",
              "      <td>-9.716645</td>\n",
              "      <td>-15.426194</td>\n",
              "      <td>-3.975927</td>\n",
              "      <td>-6.589140</td>\n",
              "      <td>NaN</td>\n",
              "      <td>-6.589140</td>\n",
              "    </tr>\n",
              "  </tbody>\n",
              "</table>\n",
              "</div>"
            ],
            "text/plain": [
              "                High        Low      Open     Close  Volume  Adj Close\n",
              "Date                                                                  \n",
              "2007-11-30 -1.160792  -1.225371 -1.229315 -1.133459     NaN  -1.133459\n",
              "2007-12-31 -3.336501  -3.104171 -3.043972 -3.790749     NaN  -3.790749\n",
              "2008-01-31 -3.229713  -3.046466 -2.849798 -3.500604     NaN  -3.500604\n",
              "2008-02-29 -1.050190  -1.031930 -1.143988 -1.102700     NaN  -1.102700\n",
              "2008-03-31 -9.716645 -15.426194 -3.975927 -6.589140     NaN  -6.589140"
            ]
          },
          "metadata": {
            "tags": []
          },
          "execution_count": 14
        }
      ]
    },
    {
      "cell_type": "code",
      "metadata": {
        "id": "Fm8asN3wCo_w",
        "colab_type": "code",
        "colab": {
          "base_uri": "https://localhost:8080/",
          "height": 235
        },
        "outputId": "c8baac6e-f065-4755-cbc1-d44b484ac883"
      },
      "source": [
        "ts_2 = returns.loc['2009-01-01':'2015-12-31']\n",
        "ts_2.head()"
      ],
      "execution_count": null,
      "outputs": [
        {
          "output_type": "execute_result",
          "data": {
            "text/html": [
              "<div>\n",
              "<style scoped>\n",
              "    .dataframe tbody tr th:only-of-type {\n",
              "        vertical-align: middle;\n",
              "    }\n",
              "\n",
              "    .dataframe tbody tr th {\n",
              "        vertical-align: top;\n",
              "    }\n",
              "\n",
              "    .dataframe thead th {\n",
              "        text-align: right;\n",
              "    }\n",
              "</style>\n",
              "<table border=\"1\" class=\"dataframe\">\n",
              "  <thead>\n",
              "    <tr style=\"text-align: right;\">\n",
              "      <th></th>\n",
              "      <th>High</th>\n",
              "      <th>Low</th>\n",
              "      <th>Open</th>\n",
              "      <th>Close</th>\n",
              "      <th>Volume</th>\n",
              "      <th>Adj Close</th>\n",
              "    </tr>\n",
              "    <tr>\n",
              "      <th>Date</th>\n",
              "      <th></th>\n",
              "      <th></th>\n",
              "      <th></th>\n",
              "      <th></th>\n",
              "      <th></th>\n",
              "      <th></th>\n",
              "    </tr>\n",
              "  </thead>\n",
              "  <tbody>\n",
              "    <tr>\n",
              "      <th>2009-01-31</th>\n",
              "      <td>-1.503416</td>\n",
              "      <td>-1.605220</td>\n",
              "      <td>-1.613045</td>\n",
              "      <td>-1.384874</td>\n",
              "      <td>NaN</td>\n",
              "      <td>-1.384874</td>\n",
              "    </tr>\n",
              "    <tr>\n",
              "      <th>2009-02-28</th>\n",
              "      <td>-0.196376</td>\n",
              "      <td>-0.574190</td>\n",
              "      <td>-0.740192</td>\n",
              "      <td>0.356391</td>\n",
              "      <td>NaN</td>\n",
              "      <td>0.356391</td>\n",
              "    </tr>\n",
              "    <tr>\n",
              "      <th>2009-03-31</th>\n",
              "      <td>-3.943379</td>\n",
              "      <td>-5.024399</td>\n",
              "      <td>-6.181168</td>\n",
              "      <td>-3.407989</td>\n",
              "      <td>NaN</td>\n",
              "      <td>-3.407989</td>\n",
              "    </tr>\n",
              "    <tr>\n",
              "      <th>2009-04-30</th>\n",
              "      <td>0.476272</td>\n",
              "      <td>0.416907</td>\n",
              "      <td>0.858759</td>\n",
              "      <td>0.610638</td>\n",
              "      <td>NaN</td>\n",
              "      <td>0.610638</td>\n",
              "    </tr>\n",
              "    <tr>\n",
              "      <th>2009-05-31</th>\n",
              "      <td>1.030796</td>\n",
              "      <td>1.143981</td>\n",
              "      <td>1.197765</td>\n",
              "      <td>0.871658</td>\n",
              "      <td>NaN</td>\n",
              "      <td>0.871658</td>\n",
              "    </tr>\n",
              "  </tbody>\n",
              "</table>\n",
              "</div>"
            ],
            "text/plain": [
              "                High       Low      Open     Close  Volume  Adj Close\n",
              "Date                                                                 \n",
              "2009-01-31 -1.503416 -1.605220 -1.613045 -1.384874     NaN  -1.384874\n",
              "2009-02-28 -0.196376 -0.574190 -0.740192  0.356391     NaN   0.356391\n",
              "2009-03-31 -3.943379 -5.024399 -6.181168 -3.407989     NaN  -3.407989\n",
              "2009-04-30  0.476272  0.416907  0.858759  0.610638     NaN   0.610638\n",
              "2009-05-31  1.030796  1.143981  1.197765  0.871658     NaN   0.871658"
            ]
          },
          "metadata": {
            "tags": []
          },
          "execution_count": 15
        }
      ]
    },
    {
      "cell_type": "code",
      "metadata": {
        "id": "14Q-xtgDC2fs",
        "colab_type": "code",
        "colab": {
          "base_uri": "https://localhost:8080/",
          "height": 136
        },
        "outputId": "16c0b63d-f1fd-4cbe-bf46-b9502116fc3e"
      },
      "source": [
        "ts_1.count()\n"
      ],
      "execution_count": null,
      "outputs": [
        {
          "output_type": "execute_result",
          "data": {
            "text/plain": [
              "High         14\n",
              "Low          14\n",
              "Open         14\n",
              "Close        14\n",
              "Volume        0\n",
              "Adj Close    14\n",
              "dtype: int64"
            ]
          },
          "metadata": {
            "tags": []
          },
          "execution_count": 16
        }
      ]
    },
    {
      "cell_type": "code",
      "metadata": {
        "id": "IeZ4LIr4C6YJ",
        "colab_type": "code",
        "colab": {
          "base_uri": "https://localhost:8080/",
          "height": 136
        },
        "outputId": "38573346-bf18-4c86-df03-a0866c89de71"
      },
      "source": [
        "ts_2.count()\n"
      ],
      "execution_count": null,
      "outputs": [
        {
          "output_type": "execute_result",
          "data": {
            "text/plain": [
              "High         84\n",
              "Low          84\n",
              "Open         84\n",
              "Close        84\n",
              "Volume       35\n",
              "Adj Close    84\n",
              "dtype: int64"
            ]
          },
          "metadata": {
            "tags": []
          },
          "execution_count": 17
        }
      ]
    },
    {
      "cell_type": "code",
      "metadata": {
        "id": "zS1C3b1jC70X",
        "colab_type": "code",
        "colab": {
          "base_uri": "https://localhost:8080/",
          "height": 400
        },
        "outputId": "efe42210-756b-4a33-fa86-f00dc658df9b"
      },
      "source": [
        "ts_1.hist(bins=20)\n"
      ],
      "execution_count": null,
      "outputs": [
        {
          "output_type": "execute_result",
          "data": {
            "text/plain": [
              "array([[<matplotlib.axes._subplots.AxesSubplot object at 0x7f715ea75ac8>,\n",
              "        <matplotlib.axes._subplots.AxesSubplot object at 0x7f715ea33be0>],\n",
              "       [<matplotlib.axes._subplots.AxesSubplot object at 0x7f715e9e8e48>,\n",
              "        <matplotlib.axes._subplots.AxesSubplot object at 0x7f715e9a70f0>],\n",
              "       [<matplotlib.axes._subplots.AxesSubplot object at 0x7f715e95a358>,\n",
              "        <matplotlib.axes._subplots.AxesSubplot object at 0x7f715e98e5c0>]],\n",
              "      dtype=object)"
            ]
          },
          "metadata": {
            "tags": []
          },
          "execution_count": 18
        },
        {
          "output_type": "display_data",
          "data": {
            "image/png": "[encoded data removed]",
            "text/plain": [
              "<Figure size 432x288 with 6 Axes>"
            ]
          },
          "metadata": {
            "tags": [],
            "needs_background": "light"
          }
        }
      ]
    },
    {
      "cell_type": "code",
      "metadata": {
        "id": "-Q258-ypC_y0",
        "colab_type": "code",
        "colab": {
          "base_uri": "https://localhost:8080/",
          "height": 400
        },
        "outputId": "312e80d6-58a5-4745-a09d-8fd5a8bb179a"
      },
      "source": [
        "ts_2.hist(bins=20)\n"
      ],
      "execution_count": null,
      "outputs": [
        {
          "output_type": "execute_result",
          "data": {
            "text/plain": [
              "array([[<matplotlib.axes._subplots.AxesSubplot object at 0x7f715e78a6d8>,\n",
              "        <matplotlib.axes._subplots.AxesSubplot object at 0x7f715e749cf8>],\n",
              "       [<matplotlib.axes._subplots.AxesSubplot object at 0x7f715e6f4f60>,\n",
              "        <matplotlib.axes._subplots.AxesSubplot object at 0x7f715e6b4208>],\n",
              "       [<matplotlib.axes._subplots.AxesSubplot object at 0x7f715e666470>,\n",
              "        <matplotlib.axes._subplots.AxesSubplot object at 0x7f715e61d240>]],\n",
              "      dtype=object)"
            ]
          },
          "metadata": {
            "tags": []
          },
          "execution_count": 19
        },
        {
          "output_type": "display_data",
          "data": {
            "image/png": "[encoded data removed]",
            "text/plain": [
              "<Figure size 432x288 with 6 Axes>"
            ]
          },
          "metadata": {
            "tags": [],
            "needs_background": "light"
          }
        }
      ]
    },
    {
      "cell_type": "code",
      "metadata": {
        "id": "CmLJoJZ4DLgn",
        "colab_type": "code",
        "colab": {
          "base_uri": "https://localhost:8080/",
          "height": 136
        },
        "outputId": "2e63a85d-d1a4-45d0-e3ee-0970f38efed4"
      },
      "source": [
        "x_1 = ts_1.mean()\n",
        "x_1"
      ],
      "execution_count": null,
      "outputs": [
        {
          "output_type": "execute_result",
          "data": {
            "text/plain": [
              "High        -2.902017\n",
              "Low         -4.437957\n",
              "Open        -0.671346\n",
              "Close       -2.788982\n",
              "Volume            NaN\n",
              "Adj Close   -2.788982\n",
              "dtype: float64"
            ]
          },
          "metadata": {
            "tags": []
          },
          "execution_count": 20
        }
      ]
    },
    {
      "cell_type": "code",
      "metadata": {
        "id": "uQvUU1ENDRau",
        "colab_type": "code",
        "colab": {
          "base_uri": "https://localhost:8080/",
          "height": 136
        },
        "outputId": "bec7cac3-e595-4507-a480-e823e36b4413"
      },
      "source": [
        "x_2 = ts_2.mean()\n",
        "x_2"
      ],
      "execution_count": null,
      "outputs": [
        {
          "output_type": "execute_result",
          "data": {
            "text/plain": [
              "High          8.703295\n",
              "Low         -26.955144\n",
              "Open          5.043243\n",
              "Close        -1.281533\n",
              "Volume       -1.375484\n",
              "Adj Close    -1.281533\n",
              "dtype: float64"
            ]
          },
          "metadata": {
            "tags": []
          },
          "execution_count": 21
        }
      ]
    },
    {
      "cell_type": "code",
      "metadata": {
        "id": "A8as2w2EDTqu",
        "colab_type": "code",
        "colab": {
          "base_uri": "https://localhost:8080/",
          "height": 136
        },
        "outputId": "de28ac61-69e7-407a-9a62-2d5f20120396"
      },
      "source": [
        "s_1 = ts_1.var()\n",
        "s_1"
      ],
      "execution_count": null,
      "outputs": [
        {
          "output_type": "execute_result",
          "data": {
            "text/plain": [
              "High          21.314018\n",
              "Low          143.001678\n",
              "Open           5.889030\n",
              "Close         21.567284\n",
              "Volume              NaN\n",
              "Adj Close     21.567284\n",
              "dtype: float64"
            ]
          },
          "metadata": {
            "tags": []
          },
          "execution_count": 22
        }
      ]
    },
    {
      "cell_type": "code",
      "metadata": {
        "id": "QgWInUSoDXBO",
        "colab_type": "code",
        "colab": {
          "base_uri": "https://localhost:8080/",
          "height": 136
        },
        "outputId": "49160f02-d3e1-43b7-e4cb-9f499f635f05"
      },
      "source": [
        "s_2 = ts_2.var()\n",
        "s_2"
      ],
      "execution_count": null,
      "outputs": [
        {
          "output_type": "execute_result",
          "data": {
            "text/plain": [
              "High         11988.644866\n",
              "Low          50318.259645\n",
              "Open          1286.028995\n",
              "Close           95.047934\n",
              "Volume           4.160754\n",
              "Adj Close       95.047934\n",
              "dtype: float64"
            ]
          },
          "metadata": {
            "tags": []
          },
          "execution_count": 23
        }
      ]
    },
    {
      "cell_type": "code",
      "metadata": {
        "id": "LWJTaIcsDZH1",
        "colab_type": "code",
        "colab": {
          "base_uri": "https://localhost:8080/",
          "height": 136
        },
        "outputId": "764fd7ab-70b2-47b9-dcdd-7031ccd3c8f9"
      },
      "source": [
        "s_p = ((n_1-1)*s_1 + (n_2-1)*s_2)/df\n",
        "s_p"
      ],
      "execution_count": null,
      "outputs": [
        {
          "output_type": "execute_result",
          "data": {
            "text/plain": [
              "High          6004.979442\n",
              "Low          25230.630662\n",
              "Open           645.959012\n",
              "Close           58.307609\n",
              "Volume                NaN\n",
              "Adj Close       58.307609\n",
              "dtype: float64"
            ]
          },
          "metadata": {
            "tags": []
          },
          "execution_count": 24
        }
      ]
    },
    {
      "cell_type": "code",
      "metadata": {
        "id": "k3CV9fbuDgJQ",
        "colab_type": "code",
        "colab": {
          "base_uri": "https://localhost:8080/",
          "height": 136
        },
        "outputId": "c24e63b2-e3af-4969-8f32-4690d754ed99"
      },
      "source": [
        "((x_1-x_2)-0)/np.sqrt(((s_p/n_1)+(s_p/n_2)))\n"
      ],
      "execution_count": null,
      "outputs": [
        {
          "output_type": "execute_result",
          "data": {
            "text/plain": [
              "High        -0.820279\n",
              "Low          0.776445\n",
              "Open        -1.231525\n",
              "Close       -1.081286\n",
              "Volume            NaN\n",
              "Adj Close   -1.081286\n",
              "dtype: float64"
            ]
          },
          "metadata": {
            "tags": []
          },
          "execution_count": 25
        }
      ]
    },
    {
      "cell_type": "code",
      "metadata": {
        "id": "6c4zWmkwDj4w",
        "colab_type": "code",
        "colab": {
          "base_uri": "https://localhost:8080/",
          "height": 204
        },
        "outputId": "6c301ee2-18c3-449d-b38f-3cf58211e4be"
      },
      "source": [
        "stats.ttest_ind(ts_1, ts_2, equal_var=True, nan_policy='omit')\n"
      ],
      "execution_count": null,
      "outputs": [
        {
          "output_type": "stream",
          "text": [
            "/usr/local/lib/python3.6/dist-packages/scipy/stats/mstats_basic.py:1050: RuntimeWarning: divide by zero encountered in true_divide\n",
            "  denom = ma.sqrt(svar*(1.0/n1 + 1.0/n2))  # n-D computation here!\n"
          ],
          "name": "stderr"
        },
        {
          "output_type": "execute_result",
          "data": {
            "text/plain": [
              "Ttest_indResult(statistic=masked_array(data=[-0.3948194449299656, 0.37388830275817675,\n",
              "                   -0.5934595391363946, -0.5660761841700311, --,\n",
              "                   -0.5660761841700311],\n",
              "             mask=[False, False, False, False,  True, False],\n",
              "       fill_value=1e+20), pvalue=masked_array(data=[0.6938519786326975, 0.7093119009387769,\n",
              "                   0.5542693417533704, 0.5726628872578843, --,\n",
              "                   0.5726628872578843],\n",
              "             mask=[False, False, False, False,  True, False],\n",
              "       fill_value=1e+20))"
            ]
          },
          "metadata": {
            "tags": []
          },
          "execution_count": 26
        }
      ]
    },
    {
      "cell_type": "code",
      "metadata": {
        "id": "iFN90rWpDmvI",
        "colab_type": "code",
        "colab": {}
      },
      "source": [
        ""
      ],
      "execution_count": null,
      "outputs": []
    }
  ]
}